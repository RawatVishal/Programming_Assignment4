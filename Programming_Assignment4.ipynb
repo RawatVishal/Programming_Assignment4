{
 "cells": [
  {
   "cell_type": "markdown",
   "id": "f5a89bd1",
   "metadata": {},
   "source": [
    "# Programming_Assignment4\n"
   ]
  },
  {
   "cell_type": "code",
   "execution_count": 1,
   "id": "e125f270",
   "metadata": {},
   "outputs": [],
   "source": [
    "#Q1-Write a python program to find the factorial of a number?"
   ]
  },
  {
   "cell_type": "code",
   "execution_count": 4,
   "id": "88ab7db2",
   "metadata": {},
   "outputs": [
    {
     "name": "stdout",
     "output_type": "stream",
     "text": [
      "Enter the number: 16\n",
      "Factorial of 16 is :  20922789888000\n"
     ]
    }
   ],
   "source": [
    "a = int(input(\"Enter the number: \" ))\n",
    "x=1\n",
    "for i in range(1,a+1):\n",
    "    x = x * i\n",
    "print(\"Factorial of\",a,\"is : \",x)"
   ]
  },
  {
   "cell_type": "code",
   "execution_count": 5,
   "id": "d8e2678e",
   "metadata": {},
   "outputs": [],
   "source": [
    "#Q2-Write a python program to write a multiplication table?"
   ]
  },
  {
   "cell_type": "code",
   "execution_count": 9,
   "id": "d45cb88e",
   "metadata": {},
   "outputs": [
    {
     "name": "stdout",
     "output_type": "stream",
     "text": [
      "Enter the number: 13\n",
      "13  \n",
      "26  \n",
      "39  \n",
      "52  \n",
      "65  \n",
      "78  \n",
      "91  \n",
      "104  \n",
      "117  \n",
      "130  \n"
     ]
    }
   ],
   "source": [
    "num = int(input(\"Enter the number: \" ))\n",
    "for i in range(1,11):\n",
    "    a = num * i\n",
    "    print(a ,\" \")"
   ]
  },
  {
   "cell_type": "code",
   "execution_count": 20,
   "id": "2709cf81",
   "metadata": {},
   "outputs": [],
   "source": [
    "#Q3-Write a python program to write a fibonacci series ?"
   ]
  },
  {
   "cell_type": "code",
   "execution_count": 29,
   "id": "f6c387a7",
   "metadata": {},
   "outputs": [
    {
     "name": "stdout",
     "output_type": "stream",
     "text": [
      "Upto which : 15\n",
      "1\n",
      "2\n",
      "3\n",
      "5\n",
      "8\n",
      "13\n",
      "21\n",
      "34\n",
      "55\n",
      "89\n",
      "144\n",
      "233\n",
      "377\n",
      "610\n"
     ]
    }
   ],
   "source": [
    "a = 0\n",
    "b = 1\n",
    "n = int(input(\"Upto which : \"))\n",
    "for i in range(n-1):\n",
    "    a , b = b , a+b\n",
    "    print(b)"
   ]
  },
  {
   "cell_type": "code",
   "execution_count": 30,
   "id": "b37b85fd",
   "metadata": {},
   "outputs": [],
   "source": [
    "#Q4-Write a python program to check a armstrong number ?"
   ]
  },
  {
   "cell_type": "code",
   "execution_count": 22,
   "id": "2b3ffa60",
   "metadata": {},
   "outputs": [
    {
     "name": "stdout",
     "output_type": "stream",
     "text": [
      "Enter the number : 5\n",
      "5 is a armstrong number\n"
     ]
    }
   ],
   "source": [
    "number = str(input(\"Enter the number : \"))\n",
    "a = len(number)\n",
    "b = 0\n",
    "for i in number:\n",
    "    b = b+int(i)**a\n",
    "if b == int(number):\n",
    "    print(number,\"is a armstrong number\")\n",
    "else:\n",
    "    print(number,\"is not a armstrong number\")"
   ]
  },
  {
   "cell_type": "code",
   "execution_count": 4,
   "id": "9b75e6c9",
   "metadata": {},
   "outputs": [],
   "source": [
    "#Q5-Write a python program to find armstrong number in an interval ?"
   ]
  },
  {
   "cell_type": "code",
   "execution_count": 25,
   "id": "3b68eedd",
   "metadata": {},
   "outputs": [
    {
     "name": "stdout",
     "output_type": "stream",
     "text": [
      "Minimum Number : 1\n",
      "Maximum Number : 10\n",
      "1 is an Armstrong number\n",
      "2 is an Armstrong number\n",
      "3 is an Armstrong number\n",
      "4 is an Armstrong number\n",
      "5 is an Armstrong number\n",
      "6 is an Armstrong number\n",
      "7 is an Armstrong number\n",
      "8 is an Armstrong number\n",
      "9 is an Armstrong number\n",
      "10 is not an Armstrong number\n"
     ]
    }
   ],
   "source": [
    "a = int(input(\"Minimum Number : \"))\n",
    "b = int(input(\"Maximum Number : \"))\n",
    "for i in range(a,b+1):\n",
    "    x = str(i)\n",
    "    y = len(x)\n",
    "    c = 0\n",
    "    for j in x:\n",
    "        c = c + int(j)**y\n",
    "    if c == i:\n",
    "        print(i,\"is an Armstrong number\")\n",
    "    else :\n",
    "        print(i,\"is not an Armstrong number\")"
   ]
  },
  {
   "cell_type": "code",
   "execution_count": 26,
   "id": "b593865e",
   "metadata": {},
   "outputs": [],
   "source": [
    "#Q6-Write a python program to find the sum of natural numbers ?"
   ]
  },
  {
   "cell_type": "code",
   "execution_count": 27,
   "id": "2927d1ed",
   "metadata": {},
   "outputs": [],
   "source": [
    "def sum(b,c):\n",
    "    a = 0\n",
    "    for i in range(b,c+1):\n",
    "        a = a + int(i)\n",
    "    print(a)\n",
    "        "
   ]
  },
  {
   "cell_type": "code",
   "execution_count": 28,
   "id": "1d6176f2",
   "metadata": {},
   "outputs": [
    {
     "name": "stdout",
     "output_type": "stream",
     "text": [
      "55\n"
     ]
    }
   ],
   "source": [
    "sum(1,10)"
   ]
  },
  {
   "cell_type": "code",
   "execution_count": null,
   "id": "9d0038ff",
   "metadata": {},
   "outputs": [],
   "source": []
  }
 ],
 "metadata": {
  "kernelspec": {
   "display_name": "Python 3 (ipykernel)",
   "language": "python",
   "name": "python3"
  },
  "language_info": {
   "codemirror_mode": {
    "name": "ipython",
    "version": 3
   },
   "file_extension": ".py",
   "mimetype": "text/x-python",
   "name": "python",
   "nbconvert_exporter": "python",
   "pygments_lexer": "ipython3",
   "version": "3.9.7"
  }
 },
 "nbformat": 4,
 "nbformat_minor": 5
}
